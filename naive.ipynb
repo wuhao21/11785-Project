{
 "cells": [
  {
   "cell_type": "code",
   "execution_count": 1,
   "metadata": {},
   "outputs": [],
   "source": [
    "import pandas as pd"
   ]
  },
  {
   "cell_type": "code",
   "execution_count": 2,
   "metadata": {},
   "outputs": [
    {
     "name": "stdout",
     "output_type": "stream",
     "text": [
      "2 most popular labels are: /m/01g317 /m/05s2s\n"
     ]
    }
   ],
   "source": [
    "top_n = 2\n",
    "\n",
    "tuning_labels = pd.read_csv('all/tuning_labels.csv', names=['id', 'labels'], index_col=['id'])\n",
    "\n",
    "# calculate top_n most popular labels\n",
    "predicted = ' '.join(\n",
    "    tuning_labels['labels']\n",
    "    .str\n",
    "    .split()\n",
    "    .apply(pd.Series)\n",
    "    .stack()\n",
    "    .value_counts()\n",
    "    .head(top_n)\n",
    "    .index\n",
    "    .tolist()\n",
    ")\n",
    "\n",
    "print(f'{top_n} most popular labels are: {predicted}')"
   ]
  },
  {
   "cell_type": "code",
   "execution_count": 3,
   "metadata": {},
   "outputs": [
    {
     "data": {
      "text/plain": [
       "1000"
      ]
     },
     "execution_count": 3,
     "metadata": {},
     "output_type": "execute_result"
    }
   ],
   "source": [
    "submission = pd.read_csv('all/stage_1_sample_submission.csv', index_col='image_id')\n",
    "\n",
    "# tuning table is part of submission.csv\n",
    "submission.index.isin(tuning_labels.index).sum()"
   ]
  },
  {
   "cell_type": "code",
   "execution_count": 4,
   "metadata": {},
   "outputs": [],
   "source": [
    "# use most popular labels as a prediction unless the correct labels are provided\n",
    "submission['labels'] = predicted\n",
    "submission.update(tuning_labels)"
   ]
  },
  {
   "cell_type": "code",
   "execution_count": 5,
   "metadata": {},
   "outputs": [],
   "source": [
    "submission.to_csv('naive_top_2.csv')"
   ]
  },
  {
   "cell_type": "code",
   "execution_count": null,
   "metadata": {},
   "outputs": [],
   "source": []
  }
 ],
 "metadata": {
  "kernelspec": {
   "display_name": "Python 3",
   "language": "python",
   "name": "python3"
  },
  "language_info": {
   "codemirror_mode": {
    "name": "ipython",
    "version": 3
   },
   "file_extension": ".py",
   "mimetype": "text/x-python",
   "name": "python",
   "nbconvert_exporter": "python",
   "pygments_lexer": "ipython3",
   "version": "3.6.5"
  }
 },
 "nbformat": 4,
 "nbformat_minor": 2
}
